{
 "cells": [
  {
   "cell_type": "code",
   "execution_count": 54,
   "id": "eaf7222b",
   "metadata": {},
   "outputs": [],
   "source": [
    "import pandas as pd\n",
    "import numpy as np\n",
    "from matplotlib import pyplot as plt\n",
    "import seaborn as sns"
   ]
  },
  {
   "cell_type": "code",
   "execution_count": 53,
   "id": "3fd4af38",
   "metadata": {},
   "outputs": [],
   "source": [
    "data = pd.read_csv(r\"C:\\Users\\Lenovo\\Music\\Datasets\\covid-nationality.csv\")"
   ]
  },
  {
   "cell_type": "code",
   "execution_count": 34,
   "id": "78ba07ed",
   "metadata": {},
   "outputs": [
    {
     "data": {
      "text/html": [
       "<div>\n",
       "<style scoped>\n",
       "    .dataframe tbody tr th:only-of-type {\n",
       "        vertical-align: middle;\n",
       "    }\n",
       "\n",
       "    .dataframe tbody tr th {\n",
       "        vertical-align: top;\n",
       "    }\n",
       "\n",
       "    .dataframe thead th {\n",
       "        text-align: right;\n",
       "    }\n",
       "</style>\n",
       "<table border=\"1\" class=\"dataframe\">\n",
       "  <thead>\n",
       "    <tr style=\"text-align: right;\">\n",
       "      <th></th>\n",
       "      <th>Unnamed: 0</th>\n",
       "      <th>date</th>\n",
       "      <th>state</th>\n",
       "      <th>hospitalized_with_symptoms</th>\n",
       "      <th>intensive_care</th>\n",
       "      <th>total_hospitalized</th>\n",
       "      <th>home_quarantine</th>\n",
       "      <th>total_confirmed_cases</th>\n",
       "      <th>variation_total_confirmed</th>\n",
       "      <th>new_confirmed_cases</th>\n",
       "      <th>recovered</th>\n",
       "      <th>deaths</th>\n",
       "      <th>total_cases</th>\n",
       "      <th>swabs_made</th>\n",
       "      <th>casi_testati</th>\n",
       "      <th>note_it</th>\n",
       "      <th>note_en</th>\n",
       "    </tr>\n",
       "  </thead>\n",
       "  <tbody>\n",
       "    <tr>\n",
       "      <th>0</th>\n",
       "      <td>0</td>\n",
       "      <td>2020-02-24T18:00:00</td>\n",
       "      <td>ITA</td>\n",
       "      <td>101</td>\n",
       "      <td>26</td>\n",
       "      <td>127</td>\n",
       "      <td>94</td>\n",
       "      <td>221</td>\n",
       "      <td>0</td>\n",
       "      <td>221</td>\n",
       "      <td>1</td>\n",
       "      <td>7</td>\n",
       "      <td>229</td>\n",
       "      <td>4324</td>\n",
       "      <td>NaN</td>\n",
       "      <td>NaN</td>\n",
       "      <td>NaN</td>\n",
       "    </tr>\n",
       "    <tr>\n",
       "      <th>1</th>\n",
       "      <td>1</td>\n",
       "      <td>2020-02-25T18:00:00</td>\n",
       "      <td>ITA</td>\n",
       "      <td>114</td>\n",
       "      <td>35</td>\n",
       "      <td>150</td>\n",
       "      <td>162</td>\n",
       "      <td>311</td>\n",
       "      <td>90</td>\n",
       "      <td>93</td>\n",
       "      <td>1</td>\n",
       "      <td>10</td>\n",
       "      <td>322</td>\n",
       "      <td>8623</td>\n",
       "      <td>NaN</td>\n",
       "      <td>NaN</td>\n",
       "      <td>NaN</td>\n",
       "    </tr>\n",
       "    <tr>\n",
       "      <th>2</th>\n",
       "      <td>2</td>\n",
       "      <td>2020-02-26T18:00:00</td>\n",
       "      <td>ITA</td>\n",
       "      <td>128</td>\n",
       "      <td>36</td>\n",
       "      <td>164</td>\n",
       "      <td>221</td>\n",
       "      <td>385</td>\n",
       "      <td>74</td>\n",
       "      <td>78</td>\n",
       "      <td>3</td>\n",
       "      <td>12</td>\n",
       "      <td>400</td>\n",
       "      <td>9587</td>\n",
       "      <td>NaN</td>\n",
       "      <td>NaN</td>\n",
       "      <td>NaN</td>\n",
       "    </tr>\n",
       "    <tr>\n",
       "      <th>3</th>\n",
       "      <td>3</td>\n",
       "      <td>2020-02-27T18:00:00</td>\n",
       "      <td>ITA</td>\n",
       "      <td>248</td>\n",
       "      <td>56</td>\n",
       "      <td>304</td>\n",
       "      <td>284</td>\n",
       "      <td>588</td>\n",
       "      <td>203</td>\n",
       "      <td>250</td>\n",
       "      <td>45</td>\n",
       "      <td>17</td>\n",
       "      <td>650</td>\n",
       "      <td>12014</td>\n",
       "      <td>NaN</td>\n",
       "      <td>NaN</td>\n",
       "      <td>NaN</td>\n",
       "    </tr>\n",
       "    <tr>\n",
       "      <th>4</th>\n",
       "      <td>4</td>\n",
       "      <td>2020-02-28T18:00:00</td>\n",
       "      <td>ITA</td>\n",
       "      <td>345</td>\n",
       "      <td>64</td>\n",
       "      <td>409</td>\n",
       "      <td>412</td>\n",
       "      <td>821</td>\n",
       "      <td>233</td>\n",
       "      <td>238</td>\n",
       "      <td>46</td>\n",
       "      <td>21</td>\n",
       "      <td>888</td>\n",
       "      <td>15695</td>\n",
       "      <td>NaN</td>\n",
       "      <td>NaN</td>\n",
       "      <td>NaN</td>\n",
       "    </tr>\n",
       "  </tbody>\n",
       "</table>\n",
       "</div>"
      ],
      "text/plain": [
       "   Unnamed: 0                 date state  hospitalized_with_symptoms  \\\n",
       "0           0  2020-02-24T18:00:00   ITA                         101   \n",
       "1           1  2020-02-25T18:00:00   ITA                         114   \n",
       "2           2  2020-02-26T18:00:00   ITA                         128   \n",
       "3           3  2020-02-27T18:00:00   ITA                         248   \n",
       "4           4  2020-02-28T18:00:00   ITA                         345   \n",
       "\n",
       "   intensive_care  total_hospitalized  home_quarantine  total_confirmed_cases  \\\n",
       "0              26                 127               94                    221   \n",
       "1              35                 150              162                    311   \n",
       "2              36                 164              221                    385   \n",
       "3              56                 304              284                    588   \n",
       "4              64                 409              412                    821   \n",
       "\n",
       "   variation_total_confirmed  new_confirmed_cases  recovered  deaths  \\\n",
       "0                          0                  221          1       7   \n",
       "1                         90                   93          1      10   \n",
       "2                         74                   78          3      12   \n",
       "3                        203                  250         45      17   \n",
       "4                        233                  238         46      21   \n",
       "\n",
       "   total_cases  swabs_made  casi_testati note_it note_en  \n",
       "0          229        4324           NaN     NaN     NaN  \n",
       "1          322        8623           NaN     NaN     NaN  \n",
       "2          400        9587           NaN     NaN     NaN  \n",
       "3          650       12014           NaN     NaN     NaN  \n",
       "4          888       15695           NaN     NaN     NaN  "
      ]
     },
     "execution_count": 34,
     "metadata": {},
     "output_type": "execute_result"
    }
   ],
   "source": [
    "data.head()"
   ]
  },
  {
   "cell_type": "code",
   "execution_count": 37,
   "id": "9eab0816",
   "metadata": {},
   "outputs": [
    {
     "data": {
      "text/plain": [
       "Index(['Unnamed: 0', 'date', 'state', 'hospitalized_with_symptoms',\n",
       "       'intensive_care', 'total_hospitalized', 'home_quarantine',\n",
       "       'total_confirmed_cases', 'variation_total_confirmed',\n",
       "       'new_confirmed_cases', 'recovered', 'deaths', 'total_cases',\n",
       "       'swabs_made', 'casi_testati', 'note_it', 'note_en'],\n",
       "      dtype='object')"
      ]
     },
     "execution_count": 37,
     "metadata": {},
     "output_type": "execute_result"
    }
   ],
   "source": [
    "data.columns"
   ]
  },
  {
   "cell_type": "code",
   "execution_count": 39,
   "id": "1cdcccd4",
   "metadata": {},
   "outputs": [
    {
     "data": {
      "text/html": [
       "<div>\n",
       "<style scoped>\n",
       "    .dataframe tbody tr th:only-of-type {\n",
       "        vertical-align: middle;\n",
       "    }\n",
       "\n",
       "    .dataframe tbody tr th {\n",
       "        vertical-align: top;\n",
       "    }\n",
       "\n",
       "    .dataframe thead th {\n",
       "        text-align: right;\n",
       "    }\n",
       "</style>\n",
       "<table border=\"1\" class=\"dataframe\">\n",
       "  <thead>\n",
       "    <tr style=\"text-align: right;\">\n",
       "      <th></th>\n",
       "      <th>Unnamed: 0</th>\n",
       "      <th>hospitalized_with_symptoms</th>\n",
       "      <th>intensive_care</th>\n",
       "      <th>total_hospitalized</th>\n",
       "      <th>home_quarantine</th>\n",
       "      <th>total_confirmed_cases</th>\n",
       "      <th>variation_total_confirmed</th>\n",
       "      <th>new_confirmed_cases</th>\n",
       "      <th>recovered</th>\n",
       "      <th>deaths</th>\n",
       "      <th>total_cases</th>\n",
       "      <th>swabs_made</th>\n",
       "      <th>casi_testati</th>\n",
       "    </tr>\n",
       "  </thead>\n",
       "  <tbody>\n",
       "    <tr>\n",
       "      <th>count</th>\n",
       "      <td>70.000000</td>\n",
       "      <td>70.000000</td>\n",
       "      <td>70.000000</td>\n",
       "      <td>70.000000</td>\n",
       "      <td>70.000000</td>\n",
       "      <td>70.000000</td>\n",
       "      <td>70.000000</td>\n",
       "      <td>70.000000</td>\n",
       "      <td>70.000000</td>\n",
       "      <td>70.000000</td>\n",
       "      <td>70.000000</td>\n",
       "      <td>7.000000e+01</td>\n",
       "      <td>1.500000e+01</td>\n",
       "    </tr>\n",
       "    <tr>\n",
       "      <th>mean</th>\n",
       "      <td>34.500000</td>\n",
       "      <td>17373.142857</td>\n",
       "      <td>2225.128571</td>\n",
       "      <td>19598.285714</td>\n",
       "      <td>41387.885714</td>\n",
       "      <td>60986.157143</td>\n",
       "      <td>1427.971429</td>\n",
       "      <td>3010.128571</td>\n",
       "      <td>23623.457143</td>\n",
       "      <td>12095.185714</td>\n",
       "      <td>96704.800000</td>\n",
       "      <td>6.873203e+05</td>\n",
       "      <td>1.195250e+06</td>\n",
       "    </tr>\n",
       "    <tr>\n",
       "      <th>std</th>\n",
       "      <td>20.351085</td>\n",
       "      <td>10475.956363</td>\n",
       "      <td>1330.399743</td>\n",
       "      <td>11743.460668</td>\n",
       "      <td>32774.474616</td>\n",
       "      <td>42510.504183</td>\n",
       "      <td>1642.323857</td>\n",
       "      <td>1750.317768</td>\n",
       "      <td>25315.758084</td>\n",
       "      <td>10460.388291</td>\n",
       "      <td>75590.446898</td>\n",
       "      <td>6.689012e+05</td>\n",
       "      <td>1.790798e+05</td>\n",
       "    </tr>\n",
       "    <tr>\n",
       "      <th>min</th>\n",
       "      <td>0.000000</td>\n",
       "      <td>101.000000</td>\n",
       "      <td>26.000000</td>\n",
       "      <td>127.000000</td>\n",
       "      <td>94.000000</td>\n",
       "      <td>221.000000</td>\n",
       "      <td>-3106.000000</td>\n",
       "      <td>78.000000</td>\n",
       "      <td>1.000000</td>\n",
       "      <td>7.000000</td>\n",
       "      <td>229.000000</td>\n",
       "      <td>4.324000e+03</td>\n",
       "      <td>9.353100e+05</td>\n",
       "    </tr>\n",
       "    <tr>\n",
       "      <th>25%</th>\n",
       "      <td>17.250000</td>\n",
       "      <td>6844.000000</td>\n",
       "      <td>1196.750000</td>\n",
       "      <td>8040.750000</td>\n",
       "      <td>5327.250000</td>\n",
       "      <td>13368.000000</td>\n",
       "      <td>229.250000</td>\n",
       "      <td>1815.750000</td>\n",
       "      <td>1303.250000</td>\n",
       "      <td>1078.500000</td>\n",
       "      <td>15749.750000</td>\n",
       "      <td>8.888025e+04</td>\n",
       "      <td>1.034036e+06</td>\n",
       "    </tr>\n",
       "    <tr>\n",
       "      <th>50%</th>\n",
       "      <td>34.500000</td>\n",
       "      <td>20522.500000</td>\n",
       "      <td>2325.500000</td>\n",
       "      <td>23118.000000</td>\n",
       "      <td>43170.000000</td>\n",
       "      <td>74704.000000</td>\n",
       "      <td>1192.000000</td>\n",
       "      <td>3043.000000</td>\n",
       "      <td>13825.000000</td>\n",
       "      <td>11185.000000</td>\n",
       "      <td>99714.000000</td>\n",
       "      <td>4.656945e+05</td>\n",
       "      <td>1.210639e+06</td>\n",
       "    </tr>\n",
       "    <tr>\n",
       "      <th>75%</th>\n",
       "      <td>51.750000</td>\n",
       "      <td>27262.750000</td>\n",
       "      <td>3392.250000</td>\n",
       "      <td>30674.500000</td>\n",
       "      <td>76257.500000</td>\n",
       "      <td>102077.500000</td>\n",
       "      <td>2605.250000</td>\n",
       "      <td>4206.250000</td>\n",
       "      <td>39646.000000</td>\n",
       "      <td>22038.750000</td>\n",
       "      <td>167994.500000</td>\n",
       "      <td>1.163153e+06</td>\n",
       "      <td>1.334180e+06</td>\n",
       "    </tr>\n",
       "    <tr>\n",
       "      <th>max</th>\n",
       "      <td>69.000000</td>\n",
       "      <td>29010.000000</td>\n",
       "      <td>4068.000000</td>\n",
       "      <td>33004.000000</td>\n",
       "      <td>83652.000000</td>\n",
       "      <td>108257.000000</td>\n",
       "      <td>4821.000000</td>\n",
       "      <td>6557.000000</td>\n",
       "      <td>81654.000000</td>\n",
       "      <td>28884.000000</td>\n",
       "      <td>210717.000000</td>\n",
       "      <td>2.153772e+06</td>\n",
       "      <td>1.456911e+06</td>\n",
       "    </tr>\n",
       "  </tbody>\n",
       "</table>\n",
       "</div>"
      ],
      "text/plain": [
       "       Unnamed: 0  hospitalized_with_symptoms  intensive_care  \\\n",
       "count   70.000000                   70.000000       70.000000   \n",
       "mean    34.500000                17373.142857     2225.128571   \n",
       "std     20.351085                10475.956363     1330.399743   \n",
       "min      0.000000                  101.000000       26.000000   \n",
       "25%     17.250000                 6844.000000     1196.750000   \n",
       "50%     34.500000                20522.500000     2325.500000   \n",
       "75%     51.750000                27262.750000     3392.250000   \n",
       "max     69.000000                29010.000000     4068.000000   \n",
       "\n",
       "       total_hospitalized  home_quarantine  total_confirmed_cases  \\\n",
       "count           70.000000        70.000000              70.000000   \n",
       "mean         19598.285714     41387.885714           60986.157143   \n",
       "std          11743.460668     32774.474616           42510.504183   \n",
       "min            127.000000        94.000000             221.000000   \n",
       "25%           8040.750000      5327.250000           13368.000000   \n",
       "50%          23118.000000     43170.000000           74704.000000   \n",
       "75%          30674.500000     76257.500000          102077.500000   \n",
       "max          33004.000000     83652.000000          108257.000000   \n",
       "\n",
       "       variation_total_confirmed  new_confirmed_cases     recovered  \\\n",
       "count                  70.000000            70.000000     70.000000   \n",
       "mean                 1427.971429          3010.128571  23623.457143   \n",
       "std                  1642.323857          1750.317768  25315.758084   \n",
       "min                 -3106.000000            78.000000      1.000000   \n",
       "25%                   229.250000          1815.750000   1303.250000   \n",
       "50%                  1192.000000          3043.000000  13825.000000   \n",
       "75%                  2605.250000          4206.250000  39646.000000   \n",
       "max                  4821.000000          6557.000000  81654.000000   \n",
       "\n",
       "             deaths    total_cases    swabs_made  casi_testati  \n",
       "count     70.000000      70.000000  7.000000e+01  1.500000e+01  \n",
       "mean   12095.185714   96704.800000  6.873203e+05  1.195250e+06  \n",
       "std    10460.388291   75590.446898  6.689012e+05  1.790798e+05  \n",
       "min        7.000000     229.000000  4.324000e+03  9.353100e+05  \n",
       "25%     1078.500000   15749.750000  8.888025e+04  1.034036e+06  \n",
       "50%    11185.000000   99714.000000  4.656945e+05  1.210639e+06  \n",
       "75%    22038.750000  167994.500000  1.163153e+06  1.334180e+06  \n",
       "max    28884.000000  210717.000000  2.153772e+06  1.456911e+06  "
      ]
     },
     "execution_count": 39,
     "metadata": {},
     "output_type": "execute_result"
    }
   ],
   "source": [
    "data.describe()"
   ]
  },
  {
   "cell_type": "code",
   "execution_count": 40,
   "id": "2121198f",
   "metadata": {},
   "outputs": [
    {
     "data": {
      "text/html": [
       "<div>\n",
       "<style scoped>\n",
       "    .dataframe tbody tr th:only-of-type {\n",
       "        vertical-align: middle;\n",
       "    }\n",
       "\n",
       "    .dataframe tbody tr th {\n",
       "        vertical-align: top;\n",
       "    }\n",
       "\n",
       "    .dataframe thead th {\n",
       "        text-align: right;\n",
       "    }\n",
       "</style>\n",
       "<table border=\"1\" class=\"dataframe\">\n",
       "  <thead>\n",
       "    <tr style=\"text-align: right;\">\n",
       "      <th></th>\n",
       "      <th>Unnamed: 0</th>\n",
       "      <th>date</th>\n",
       "      <th>state</th>\n",
       "      <th>hospitalized_with_symptoms</th>\n",
       "      <th>intensive_care</th>\n",
       "      <th>total_hospitalized</th>\n",
       "      <th>home_quarantine</th>\n",
       "      <th>total_confirmed_cases</th>\n",
       "      <th>variation_total_confirmed</th>\n",
       "      <th>new_confirmed_cases</th>\n",
       "      <th>recovered</th>\n",
       "      <th>deaths</th>\n",
       "      <th>total_cases</th>\n",
       "      <th>swabs_made</th>\n",
       "      <th>casi_testati</th>\n",
       "      <th>note_it</th>\n",
       "      <th>note_en</th>\n",
       "    </tr>\n",
       "  </thead>\n",
       "  <tbody>\n",
       "    <tr>\n",
       "      <th>65</th>\n",
       "      <td>65</td>\n",
       "      <td>2020-04-29T17:00:00</td>\n",
       "      <td>ITA</td>\n",
       "      <td>19210</td>\n",
       "      <td>1795</td>\n",
       "      <td>21005</td>\n",
       "      <td>83652</td>\n",
       "      <td>104657</td>\n",
       "      <td>-548</td>\n",
       "      <td>2086</td>\n",
       "      <td>71252</td>\n",
       "      <td>27682</td>\n",
       "      <td>203591</td>\n",
       "      <td>1910761</td>\n",
       "      <td>1313460.0</td>\n",
       "      <td>NaN</td>\n",
       "      <td>NaN</td>\n",
       "    </tr>\n",
       "    <tr>\n",
       "      <th>66</th>\n",
       "      <td>66</td>\n",
       "      <td>2020-04-30T17:00:00</td>\n",
       "      <td>ITA</td>\n",
       "      <td>18149</td>\n",
       "      <td>1694</td>\n",
       "      <td>19843</td>\n",
       "      <td>81708</td>\n",
       "      <td>101551</td>\n",
       "      <td>-3106</td>\n",
       "      <td>1872</td>\n",
       "      <td>75945</td>\n",
       "      <td>27967</td>\n",
       "      <td>205463</td>\n",
       "      <td>1979217</td>\n",
       "      <td>1354901.0</td>\n",
       "      <td>NaN</td>\n",
       "      <td>NaN</td>\n",
       "    </tr>\n",
       "    <tr>\n",
       "      <th>67</th>\n",
       "      <td>67</td>\n",
       "      <td>2020-05-01T17:00:00</td>\n",
       "      <td>ITA</td>\n",
       "      <td>17569</td>\n",
       "      <td>1578</td>\n",
       "      <td>19147</td>\n",
       "      <td>81796</td>\n",
       "      <td>100943</td>\n",
       "      <td>-608</td>\n",
       "      <td>1965</td>\n",
       "      <td>78249</td>\n",
       "      <td>28236</td>\n",
       "      <td>207428</td>\n",
       "      <td>2053425</td>\n",
       "      <td>1398633.0</td>\n",
       "      <td>dc-IT-0015</td>\n",
       "      <td>dc-EN-0015</td>\n",
       "    </tr>\n",
       "    <tr>\n",
       "      <th>68</th>\n",
       "      <td>68</td>\n",
       "      <td>2020-05-02T17:00:00</td>\n",
       "      <td>ITA</td>\n",
       "      <td>17357</td>\n",
       "      <td>1539</td>\n",
       "      <td>18896</td>\n",
       "      <td>81808</td>\n",
       "      <td>100704</td>\n",
       "      <td>-239</td>\n",
       "      <td>1900</td>\n",
       "      <td>79914</td>\n",
       "      <td>28710</td>\n",
       "      <td>209328</td>\n",
       "      <td>2108837</td>\n",
       "      <td>1429864.0</td>\n",
       "      <td>dc-IT-0017</td>\n",
       "      <td>dc-EN-0017</td>\n",
       "    </tr>\n",
       "    <tr>\n",
       "      <th>69</th>\n",
       "      <td>69</td>\n",
       "      <td>2020-05-03T17:00:00</td>\n",
       "      <td>ITA</td>\n",
       "      <td>17242</td>\n",
       "      <td>1501</td>\n",
       "      <td>18743</td>\n",
       "      <td>81436</td>\n",
       "      <td>100179</td>\n",
       "      <td>-525</td>\n",
       "      <td>1389</td>\n",
       "      <td>81654</td>\n",
       "      <td>28884</td>\n",
       "      <td>210717</td>\n",
       "      <td>2153772</td>\n",
       "      <td>1456911.0</td>\n",
       "      <td>NaN</td>\n",
       "      <td>NaN</td>\n",
       "    </tr>\n",
       "  </tbody>\n",
       "</table>\n",
       "</div>"
      ],
      "text/plain": [
       "    Unnamed: 0                 date state  hospitalized_with_symptoms  \\\n",
       "65          65  2020-04-29T17:00:00   ITA                       19210   \n",
       "66          66  2020-04-30T17:00:00   ITA                       18149   \n",
       "67          67  2020-05-01T17:00:00   ITA                       17569   \n",
       "68          68  2020-05-02T17:00:00   ITA                       17357   \n",
       "69          69  2020-05-03T17:00:00   ITA                       17242   \n",
       "\n",
       "    intensive_care  total_hospitalized  home_quarantine  \\\n",
       "65            1795               21005            83652   \n",
       "66            1694               19843            81708   \n",
       "67            1578               19147            81796   \n",
       "68            1539               18896            81808   \n",
       "69            1501               18743            81436   \n",
       "\n",
       "    total_confirmed_cases  variation_total_confirmed  new_confirmed_cases  \\\n",
       "65                 104657                       -548                 2086   \n",
       "66                 101551                      -3106                 1872   \n",
       "67                 100943                       -608                 1965   \n",
       "68                 100704                       -239                 1900   \n",
       "69                 100179                       -525                 1389   \n",
       "\n",
       "    recovered  deaths  total_cases  swabs_made  casi_testati     note_it  \\\n",
       "65      71252   27682       203591     1910761     1313460.0         NaN   \n",
       "66      75945   27967       205463     1979217     1354901.0         NaN   \n",
       "67      78249   28236       207428     2053425     1398633.0  dc-IT-0015   \n",
       "68      79914   28710       209328     2108837     1429864.0  dc-IT-0017   \n",
       "69      81654   28884       210717     2153772     1456911.0         NaN   \n",
       "\n",
       "       note_en  \n",
       "65         NaN  \n",
       "66         NaN  \n",
       "67  dc-EN-0015  \n",
       "68  dc-EN-0017  \n",
       "69         NaN  "
      ]
     },
     "execution_count": 40,
     "metadata": {},
     "output_type": "execute_result"
    }
   ],
   "source": [
    "data.tail()"
   ]
  },
  {
   "cell_type": "code",
   "execution_count": 44,
   "id": "5d41b99d",
   "metadata": {},
   "outputs": [
    {
     "data": {
      "text/plain": [
       "Unnamed: 0                     0\n",
       "date                           0\n",
       "state                          0\n",
       "hospitalized_with_symptoms     0\n",
       "intensive_care                 0\n",
       "total_hospitalized             0\n",
       "home_quarantine                0\n",
       "total_confirmed_cases          0\n",
       "variation_total_confirmed      0\n",
       "new_confirmed_cases            0\n",
       "recovered                      0\n",
       "deaths                         0\n",
       "total_cases                    0\n",
       "swabs_made                     0\n",
       "casi_testati                  55\n",
       "note_it                       52\n",
       "note_en                       52\n",
       "dtype: int64"
      ]
     },
     "execution_count": 44,
     "metadata": {},
     "output_type": "execute_result"
    }
   ],
   "source": [
    "data.isnull().sum()"
   ]
  },
  {
   "cell_type": "code",
   "execution_count": 55,
   "id": "54ab9257",
   "metadata": {},
   "outputs": [
    {
     "data": {
      "text/plain": [
       "<seaborn.axisgrid.FacetGrid at 0x18c298e7f40>"
      ]
     },
     "execution_count": 55,
     "metadata": {},
     "output_type": "execute_result"
    },
    {
     "data": {
      "image/png": "[encoded data removed]",
      "text/plain": [
       "<Figure size 360x360 with 1 Axes>"
      ]
     },
     "metadata": {
      "needs_background": "light"
     },
     "output_type": "display_data"
    }
   ],
   "source": [
    "sns.relplot(x=\"total_cases\" , y=\"recovered\" , data = data)"
   ]
  },
  {
   "cell_type": "code",
   "execution_count": 56,
   "id": "e3cb3f9c",
   "metadata": {},
   "outputs": [
    {
     "data": {
      "text/plain": [
       "<seaborn.axisgrid.FacetGrid at 0x18c2b995fd0>"
      ]
     },
     "execution_count": 56,
     "metadata": {},
     "output_type": "execute_result"
    },
    {
     "data": {
      "image/png": "[encoded data removed]",
      "text/plain": [
       "<Figure size 360x360 with 1 Axes>"
      ]
     },
     "metadata": {
      "needs_background": "light"
     },
     "output_type": "display_data"
    }
   ],
   "source": [
    "sns.relplot(x=\"total_cases\" , y=\"deaths\" , data = data)"
   ]
  },
  {
   "cell_type": "code",
   "execution_count": 60,
   "id": "b39b4458",
   "metadata": {},
   "outputs": [
    {
     "data": {
      "text/plain": [
       "<seaborn.axisgrid.FacetGrid at 0x18c2ba9bd60>"
      ]
     },
     "execution_count": 60,
     "metadata": {},
     "output_type": "execute_result"
    },
    {
     "data": {
      "image/png": "[encoded data removed]",
      "text/plain": [
       "<Figure size 360x360 with 1 Axes>"
      ]
     },
     "metadata": {
      "needs_background": "light"
     },
     "output_type": "display_data"
    }
   ],
   "source": [
    "sns.relplot(x=\"total_cases\" , y=\"total_confirmed_cases\" , data = data)"
   ]
  },
  {
   "cell_type": "code",
   "execution_count": 61,
   "id": "1243f505",
   "metadata": {},
   "outputs": [
    {
     "data": {
      "text/plain": [
       "<seaborn.axisgrid.FacetGrid at 0x18c2bb6d1c0>"
      ]
     },
     "execution_count": 61,
     "metadata": {},
     "output_type": "execute_result"
    },
    {
     "data": {
      "image/png": "[encoded data removed]",
      "text/plain": [
       "<Figure size 427.5x360 with 1 Axes>"
      ]
     },
     "metadata": {
      "needs_background": "light"
     },
     "output_type": "display_data"
    }
   ],
   "source": [
    "sns.relplot(x=\"total_cases\" , y=\"total_hospitalized\" , hue = \"recovered\" , data = data)"
   ]
  },
  {
   "cell_type": "code",
   "execution_count": 64,
   "id": "1ee691b7",
   "metadata": {},
   "outputs": [
    {
     "data": {
      "text/plain": [
       "<seaborn.axisgrid.FacetGrid at 0x18c18771c40>"
      ]
     },
     "execution_count": 64,
     "metadata": {},
     "output_type": "execute_result"
    },
    {
     "data": {
      "image/png": "[encoded data removed]",
      "text/plain": [
       "<Figure size 360x360 with 1 Axes>"
      ]
     },
     "metadata": {
      "needs_background": "light"
     },
     "output_type": "display_data"
    }
   ],
   "source": [
    "sns.relplot(x=\"total_cases\" , y=\"total_hospitalized\" , kind=\"line\"  , data = data)"
   ]
  },
  {
   "cell_type": "code",
   "execution_count": 67,
   "id": "8c416604",
   "metadata": {},
   "outputs": [
    {
     "data": {
      "text/plain": [
       "<seaborn.axisgrid.FacetGrid at 0x18c2c4f3970>"
      ]
     },
     "execution_count": 67,
     "metadata": {},
     "output_type": "execute_result"
    },
    {
     "data": {
      "image/png": "[encoded data removed]",
      "text/plain": [
       "<Figure size 360x360 with 1 Axes>"
      ]
     },
     "metadata": {
      "needs_background": "light"
     },
     "output_type": "display_data"
    }
   ],
   "source": [
    "sns.catplot(x=\"total_cases\" , y=\"total_hospitalized\" ,  data = data)"
   ]
  },
  {
   "cell_type": "code",
   "execution_count": null,
   "id": "29e483bb",
   "metadata": {},
   "outputs": [],
   "source": []
  }
 ],
 "metadata": {
  "kernelspec": {
   "display_name": "Python 3",
   "language": "python",
   "name": "python3"
  },
  "language_info": {
   "codemirror_mode": {
    "name": "ipython",
    "version": 3
   },
   "file_extension": ".py",
   "mimetype": "text/x-python",
   "name": "python",
   "nbconvert_exporter": "python",
   "pygments_lexer": "ipython3",
   "version": "3.9.5"
  }
 },
 "nbformat": 4,
 "nbformat_minor": 5
}
